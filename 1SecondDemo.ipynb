{
  "nbformat": 4,
  "nbformat_minor": 0,
  "metadata": {
    "colab": {
      "provenance": []
    },
    "kernelspec": {
      "name": "python3",
      "display_name": "Python 3"
    },
    "language_info": {
      "name": "python"
    }
  },
  "cells": [
    {
      "cell_type": "markdown",
      "source": [
        "# 1. What is Your Name ?\n",
        "- My name Torab\n",
        "#2. Where you from ?\n",
        "- I am from Rampurhat.\n",
        "#3. What you do for living ?\n",
        "- No no I am not living . I am serviving\n"
      ],
      "metadata": {
        "id": "CbvGQcaysIQO"
      }
    },
    {
      "cell_type": "code",
      "source": [
        "# 1. Write Cpp boiler plate\n",
        "''' Here is HTML boiler plate '''\n",
        "\n",
        "\n",
        "'''\n",
        "int main() {\n",
        "    std::cout << \"Hello, World!\" << std::endl;\n",
        "    return 0;\n",
        "}\n",
        "'''\n",
        "\n",
        "\n",
        "\n",
        "\n",
        "\n",
        "# 2. Write HTML boiler plate\n",
        "\n"
      ],
      "metadata": {
        "colab": {
          "base_uri": "https://localhost:8080/",
          "height": 36
        },
        "id": "8zn2hfCusnxK",
        "outputId": "ac418952-101e-4e28-e21d-ddd79ddba7ec"
      },
      "execution_count": 9,
      "outputs": [
        {
          "output_type": "execute_result",
          "data": {
            "text/plain": [
              "'\\ninclude <iostream>\\n\\nint main() {\\n    std::cout << \"Hello, World!\" << std::endl;\\n    return 0;\\n}\\n'"
            ],
            "application/vnd.google.colaboratory.intrinsic+json": {
              "type": "string"
            }
          },
          "metadata": {},
          "execution_count": 9
        }
      ]
    }
  ]
}