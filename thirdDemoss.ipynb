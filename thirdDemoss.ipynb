{
  "nbformat": 4,
  "nbformat_minor": 0,
  "metadata": {
    "colab": {
      "provenance": []
    },
    "kernelspec": {
      "name": "python3",
      "display_name": "Python 3"
    },
    "language_info": {
      "name": "python"
    }
  },
  "cells": [
    {
      "cell_type": "markdown",
      "source": [],
      "metadata": {
        "id": "1T4PeGU891PQ"
      }
    },
    {
      "cell_type": "markdown",
      "source": [
        "# 1. what is your name ?\n",
        " -  hello"
      ],
      "metadata": {
        "id": "WIQVgTJM920I"
      }
    },
    {
      "cell_type": "markdown",
      "source": [
        "# 2. what is you name ?\n",
        "- Hey"
      ],
      "metadata": {
        "id": "UHcbNEEg-ls9"
      }
    },
    {
      "cell_type": "markdown",
      "source": [],
      "metadata": {
        "id": "R5tFh095-q4n"
      }
    },
    {
      "cell_type": "code",
      "source": [
        "# Question is here\n",
        "\n",
        "''' code is here '''"
      ],
      "metadata": {
        "id": "gvLPMGSq-x4e"
      },
      "execution_count": null,
      "outputs": []
    },
    {
      "cell_type": "code",
      "source": [
        "# Question 3: Look at the code below. Can you find and fix the mistake?\n",
        "'''<!-- This is an HTML comment\n",
        "<h1>Welcome to my website</h1>'''\n",
        "\n",
        "# - Answer\n",
        "'''<!-- This is an HTML comment -->\n",
        "<h1>Welcome to my website</h1>'''\n",
        "\n",
        "\n"
      ],
      "metadata": {
        "id": "cWngFD9__NOp",
        "colab": {
          "base_uri": "https://localhost:8080/",
          "height": 36
        },
        "outputId": "bdc5f3fb-2fef-4b7d-f6f3-2ea18313f823"
      },
      "execution_count": 1,
      "outputs": [
        {
          "output_type": "execute_result",
          "data": {
            "text/plain": [
              "'<!-- This is an HTML comment -->\\n<h1>Welcome to my website</h1>'"
            ],
            "application/vnd.google.colaboratory.intrinsic+json": {
              "type": "string"
            }
          },
          "metadata": {},
          "execution_count": 1
        }
      ]
    },
    {
      "cell_type": "code",
      "source": [
        " # Question 4: Look at the code below. Can you find and fix the mistake?\n",
        "'''<!-- This is an HTML comment\n",
        "<h1>Welcome to my website</h1>'''\n",
        "\n",
        "# - Answer\n",
        "'''<!-- This is an HTML comment -->'''\n",
        "'''<h1>Welcome to my website</h1>'''\n"
      ],
      "metadata": {
        "id": "IdU8NaY3mRXl"
      },
      "execution_count": null,
      "outputs": []
    }
  ]
}