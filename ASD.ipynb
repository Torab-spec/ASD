{
  "nbformat": 4,
  "nbformat_minor": 0,
  "metadata": {
    "colab": {
      "provenance": []
    },
    "kernelspec": {
      "name": "python3",
      "display_name": "Python 3"
    },
    "language_info": {
      "name": "python"
    }
  },
  "cells": [
    {
      "cell_type": "markdown",
      "source": [],
      "metadata": {
        "id": "Va5_vCyL7ho-"
      }
    },
    {
      "cell_type": "markdown",
      "source": [
        "1. what is extension of cpp\n",
        " - The extension of cpp is \".cpp\"\n",
        "2. can I use cpp for DSA ?\n",
        " - Yes you can use.\n",
        "3. which language is mostly use for DSA ?\n",
        " - Java is most usely for DSA.\n",
        "4. what is your you name ?\n",
        " - My name is Md. Torab"
      ],
      "metadata": {
        "id": "N6_HL5-U71do"
      }
    },
    {
      "cell_type": "code",
      "source": [
        "# Question --> Write boiler plate of cpp\n",
        "''' Here is the boiler plate '''"
      ],
      "metadata": {
        "colab": {
          "base_uri": "https://localhost:8080/",
          "height": 36
        },
        "id": "9DkeXPTJSk1q",
        "outputId": "1ba95498-5532-4bc4-bf1b-7b9438e5bd80"
      },
      "execution_count": 1,
      "outputs": [
        {
          "output_type": "execute_result",
          "data": {
            "text/plain": [
              "' Here is the boiler plate '"
            ],
            "application/vnd.google.colaboratory.intrinsic+json": {
              "type": "string"
            }
          },
          "metadata": {},
          "execution_count": 1
        }
      ]
    }
  ]
}