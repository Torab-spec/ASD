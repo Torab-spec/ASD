{
  "nbformat": 4,
  "nbformat_minor": 0,
  "metadata": {
    "colab": {
      "provenance": []
    },
    "kernelspec": {
      "name": "python3",
      "display_name": "Python 3"
    },
    "language_info": {
      "name": "python"
    }
  },
  "cells": [
    {
      "cell_type": "markdown",
      "source": [
        "# 1. What is Your Name ?\n",
        "- My name Torab\n",
        "#2. Where you from ?\n",
        "- I am from Rampurhat.\n",
        "#3. What you do for living ?\n",
        "- No no I am not living . I am serviving\n"
      ],
      "metadata": {
        "id": "CbvGQcaysIQO"
      }
    },
    {
      "cell_type": "code",
      "source": [
        "# 1. Write Cpp boiler plate\n",
        "''' Here is HTML boiler plate '''\n",
        "include <iostream>\n",
        "\n",
        "'''include <iostream>\n",
        "\n",
        "int main() {\n",
        "    std::cout << \"Hello, World!\" << std::endl;\n",
        "    return 0;\n",
        "}'''\n",
        "\n",
        "\n",
        "# 2. Write HTML boiler plate\n",
        "\n",
        "<!DOCTYPE html>\n",
        "<html lang=\"en\">\n",
        "<head>\n",
        "    <meta charset=\"UTF-8\">\n",
        "    <meta name=\"viewport\" content=\"width=device-width, initial-scale=1.0\">\n",
        "    <title>Document</title>\n",
        "</head>\n",
        "<body>\n",
        "\n",
        "</body>\n",
        "</html>"
      ],
      "metadata": {
        "colab": {
          "base_uri": "https://localhost:8080/",
          "height": 106
        },
        "id": "8zn2hfCusnxK",
        "outputId": "56d75ba5-31b9-4e64-e06b-ca2c9948e07b"
      },
      "execution_count": 7,
      "outputs": [
        {
          "output_type": "error",
          "ename": "SyntaxError",
          "evalue": "invalid syntax (ipython-input-929161906.py, line 3)",
          "traceback": [
            "\u001b[0;36m  File \u001b[0;32m\"/tmp/ipython-input-929161906.py\"\u001b[0;36m, line \u001b[0;32m3\u001b[0m\n\u001b[0;31m    include <iostream>\u001b[0m\n\u001b[0m                      ^\u001b[0m\n\u001b[0;31mSyntaxError\u001b[0m\u001b[0;31m:\u001b[0m invalid syntax\n"
          ]
        }
      ]
    }
  ]
}