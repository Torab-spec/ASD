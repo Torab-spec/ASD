{
  "nbformat": 4,
  "nbformat_minor": 0,
  "metadata": {
    "colab": {
      "provenance": []
    },
    "kernelspec": {
      "name": "python3",
      "display_name": "Python 3"
    },
    "language_info": {
      "name": "python"
    }
  },
  "cells": [
    {
      "cell_type": "markdown",
      "source": [
        "# `Assignment Code: FSD-AG-001`\n",
        "# `HTML Basics | Assignment`\n",
        "# `Total Marks: 140`\n",
        "# <ins> _____________________________________________________________ </ins>"
      ],
      "metadata": {
        "id": "PLACFWQCsi6W"
      }
    },
    {
      "cell_type": "markdown",
      "source": [
        "# <ins> _____________________________________________________________ </ins>\n",
        "# Question 1 : Explain the basic structure of an HTML page. Why is it important to follow this structure?\n",
        "\n",
        "## ANSWER :\n",
        "- The basic structure of an HTML page comprises several essential elements that define the document's type, metadata, and visible content.<br>\n",
        "\n",
        "### Basic Structure :\n",
        "- The fundamental structure of an HTML page includes four main components: the doctype declaration, the `<html>` element, the `<head>` element, and the `<body>` element.\n",
        "\n",
        "1. `<!DOCTYPE html>` : This declaration, placed at the very beginning of the document, informs the web browser about the HTML version being used, typically HTML5. It is not an HTML tag itself.\n",
        "\n",
        "2.  `<html>` : This is the root element that encapsulates all other content on the page, including the `<head>` and `<body>` sections. It often includes a lang attribute to specify the document's language (e.g., `<html lang=\"en\">`).\n",
        "\n",
        "3.  `<head> `: This section contains metadata about the HTML document. The nformation here isn't visible on the web page itself but is used by browsers and search engines. `<head> ` tag also not show in browser. It also hold some tag that are `<title> ,<meta>, <link> ,<style> <script>`.\n",
        "\n",
        "4. `<body>` : This is where all the visible content of the web page resides. Everything a user sees, from text and images to links and forms, is placed inside the `<body>` element. This includes headings `<h1>` to `<h6>`, paragraphs `<p>`, lists `<ul>, <ol>`, images `<img>`, and more.\n",
        "\n",
        "\n",
        "### Importance of Following the Structure:\n",
        "- Following this basic structure is crucial for several reasons - <br>\n",
        "1. `Browser Rendering` : It provides a clear and consistent framework that web browsers can interpret and render correctly.\n",
        "2. `Search Engine Optimization (SEO)` : Search engines rely on this structure to understand the content and context of a page,.\n",
        "3. `Accessibility` : A well-structured HTML document improves accessibility for users with disabilities who rely on assistive technologies like screen readers. Semantic HTML elements within the `<body>` `(e.g., <header>, <nav>, <main>, <footer>)` further enhance accessibility.\n",
        "4. `Maintainability and Readability` : A consistent structure makes the code easier for developers to read, understand, and maintain, especially in larger projects.\n",
        "5. `Validation` :  Standard structure allows for proper validation of the HTML code, helping to identify and correct errors.\n",
        "\n",
        "```\n",
        "<!DOCTYPE html>\n",
        "<html>\n",
        "  <head>\n",
        "    <title>My Page</title>\n",
        "  </head>\n",
        "  <body>\n",
        "    <h1>Hello, World!</h1>\n",
        "    <p>This is a paragraph.</p>\n",
        "  </body>\n",
        "</html>\n",
        "```"
      ],
      "metadata": {
        "id": "Ph6nPEylsqEu"
      }
    },
    {
      "cell_type": "code",
      "source": [
        "\n",
        "## Here is the demonstration of basic HTML structure\n",
        "\n",
        "html_code = \"\"\"\n",
        "<!DOCTYPE html>\n",
        "<html lang=\"en\">\n",
        "<head>\n",
        "  <meta charset=\"UTF-8\">\n",
        "  <meta name=\"viewport\" content=\"width=device-width, initial-scale=1.0\">\n",
        "  <title></title>\n",
        "</head>\n",
        "<body>\n",
        "  <h1>This is heading 1</h1>\n",
        "  <h6>This is heading 2</h6>\n",
        "</body>\n",
        "</html>\n",
        "\"\"\"\n",
        "print(html_code)"
      ],
      "metadata": {
        "id": "T5FIFCkLtal5"
      },
      "execution_count": null,
      "outputs": []
    },
    {
      "cell_type": "markdown",
      "source": [
        "# <ins> _____________________________________________________________ </ins>"
      ],
      "metadata": {
        "id": "8JD_wCIxuz3d"
      }
    },
    {
      "cell_type": "code",
      "source": [
        "## Here is the code example\n",
        "html_code = \"\"\"\n",
        "h1>My Name in heading 1</h1>\n",
        "<p>Description about myself using `</p>\n",
        "<p>` tage</p> <br>\n",
        "<strong>Emphasizing My key skill using (<strong>) tag</strong> <br>\n",
        "<em>Emphasizing My key skill using (<em>) tag</em>\n",
        "\"\"\"\n",
        "print(html_code)"
      ],
      "metadata": {
        "id": "JDzPqfottfmO"
      },
      "execution_count": null,
      "outputs": []
    },
    {
      "cell_type": "markdown",
      "source": [
        "<!DOCTYPE html>\n",
        "<html>\n",
        "  <head>\n",
        "    <title>My Page</title>\n",
        "  </head>\n",
        "  <body>\n",
        "    <h1>Hello, World!</h1>\n",
        "    <p>This is a paragraph.</p>\n",
        "  </body>\n",
        "</html>"
      ],
      "metadata": {
        "id": "ys-XE1LDuB6s"
      }
    },
    {
      "cell_type": "markdown",
      "source": [
        "# <ins> _____________________________________________________________ </ins>\n",
        "# Question 2: You’re building a small personal profile page. Which HTML tags will you use to highlight your name as a heading, describe yourself in a paragraph, and emphasize a key skill?\n",
        "\n",
        "## ANSWER :\n",
        "\n",
        "- For building a personal profile page, I would use the following HTML tags: <br>\n",
        "1. `<h1>` for the main heading (your name).<br>\n",
        "2. `<p>` for a paragraph to describe yourself.<br>\n",
        "3. `<strong>` or `<em>` to emphasize a key skill.<br>\n",
        "\n",
        "\n",
        "\n"
      ],
      "metadata": {
        "id": "2nYcQw78uGXK"
      }
    },
    {
      "cell_type": "code",
      "source": [
        "# Here is the code example\n",
        "html_code = \"\"\"\n",
        "<h1>My Name in heading 1</h1>\n",
        "<p>Description about myself using (<p>) tag</p>\n",
        "<strong>Emphasizing My key skill using (<strong>) tag</strong>\n",
        "<em>Emphasizing My key skill using (<em>) tag</em>\n",
        "\"\"\"\n",
        "print(html_code)"
      ],
      "metadata": {
        "colab": {
          "base_uri": "https://localhost:8080/"
        },
        "id": "REnORlcwuNGb",
        "outputId": "8b59a146-92ca-437c-f205-485aa6b85ab4"
      },
      "execution_count": 2,
      "outputs": [
        {
          "output_type": "stream",
          "name": "stdout",
          "text": [
            "\n",
            "<h1>My Name in heading 1</h1>\n",
            "<p>Description about myself using (<p>) tag</p>\n",
            "<strong>Emphasizing My key skill using (<strong>) tag</strong>\n",
            "<em>Emphasizing My key skill using (<em>) tag</em>\n",
            "\n"
          ]
        }
      ]
    },
    {
      "cell_type": "markdown",
      "source": [
        "# <ins> _____________________________________________________________ </ins>"
      ],
      "metadata": {
        "id": "nBanSUsUuVXr"
      }
    },
    {
      "cell_type": "code",
      "source": [
        "html_code = \"\"\"HTML code\n",
        "\n",
        "<!DOCTYPE html>\n",
        "<html>\n",
        "<head>\n",
        "    <title>My Profile</title>\n",
        "</head>\n",
        "<body>\n",
        "    <h1>John Doe</h1>\n",
        "    <p>Web Developer</p>\n",
        "</body>\n",
        "</html>\n",
        "\"\"\"\n",
        "print(html_code)"
      ],
      "metadata": {
        "colab": {
          "base_uri": "https://localhost:8080/"
        },
        "id": "NljdgZIluZ1z",
        "outputId": "2a253455-e2a1-4da1-8f83-878596be32f9"
      },
      "execution_count": 3,
      "outputs": [
        {
          "output_type": "stream",
          "name": "stdout",
          "text": [
            "HTML code\n",
            "\n",
            "<!DOCTYPE html>\n",
            "<html>\n",
            "<head>\n",
            "    <title>My Profile</title>\n",
            "</head>\n",
            "<body>\n",
            "    <h1>John Doe</h1>\n",
            "    <p>Web Developer</p>\n",
            "</body>\n",
            "</html>\n",
            "\n"
          ]
        }
      ]
    }
  ]
}